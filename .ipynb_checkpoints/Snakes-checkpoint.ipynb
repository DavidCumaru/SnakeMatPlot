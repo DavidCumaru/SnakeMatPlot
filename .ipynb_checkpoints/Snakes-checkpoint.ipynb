{
 "cells": [
  {
   "cell_type": "code",
   "execution_count": 1,
   "id": "7f3e80f1",
   "metadata": {},
   "outputs": [],
   "source": [
    "import pandas as pd\n",
    "import matplotlib.pyplot as plt"
   ]
  },
  {
   "cell_type": "code",
   "execution_count": 2,
   "id": "06734aa1",
   "metadata": {},
   "outputs": [
    {
     "data": {
      "text/html": [
       "<div>\n",
       "<style scoped>\n",
       "    .dataframe tbody tr th:only-of-type {\n",
       "        vertical-align: middle;\n",
       "    }\n",
       "\n",
       "    .dataframe tbody tr th {\n",
       "        vertical-align: top;\n",
       "    }\n",
       "\n",
       "    .dataframe thead th {\n",
       "        text-align: right;\n",
       "    }\n",
       "</style>\n",
       "<table border=\"1\" class=\"dataframe\">\n",
       "  <thead>\n",
       "    <tr style=\"text-align: right;\">\n",
       "      <th></th>\n",
       "      <th>Unnamed: 0</th>\n",
       "      <th>binomial</th>\n",
       "      <th>country</th>\n",
       "      <th>continent</th>\n",
       "      <th>genus</th>\n",
       "      <th>family</th>\n",
       "      <th>UUID</th>\n",
       "      <th>class_id</th>\n",
       "      <th>snake_sub_family</th>\n",
       "      <th>poisonous</th>\n",
       "    </tr>\n",
       "  </thead>\n",
       "  <tbody>\n",
       "    <tr>\n",
       "      <th>0</th>\n",
       "      <td>0</td>\n",
       "      <td>Agkistrodon contortrix</td>\n",
       "      <td>United States of America</td>\n",
       "      <td>North America</td>\n",
       "      <td>Agkistrodon</td>\n",
       "      <td>Viperidae</td>\n",
       "      <td>ca23ee722e5e4b6ca4b130291b8428f1</td>\n",
       "      <td>18</td>\n",
       "      <td>Agkistrodon contortrix</td>\n",
       "      <td>1</td>\n",
       "    </tr>\n",
       "    <tr>\n",
       "      <th>1</th>\n",
       "      <td>1</td>\n",
       "      <td>Agkistrodon contortrix</td>\n",
       "      <td>United States of America</td>\n",
       "      <td>North America</td>\n",
       "      <td>Agkistrodon</td>\n",
       "      <td>Viperidae</td>\n",
       "      <td>23dfe346fcbf40e7a465b0febf3620be</td>\n",
       "      <td>18</td>\n",
       "      <td>Agkistrodon contortrix</td>\n",
       "      <td>1</td>\n",
       "    </tr>\n",
       "    <tr>\n",
       "      <th>2</th>\n",
       "      <td>2</td>\n",
       "      <td>Agkistrodon contortrix</td>\n",
       "      <td>United States of America</td>\n",
       "      <td>North America</td>\n",
       "      <td>Agkistrodon</td>\n",
       "      <td>Viperidae</td>\n",
       "      <td>2c96953bd06645bdbfa87b180eb72b0f</td>\n",
       "      <td>18</td>\n",
       "      <td>Agkistrodon contortrix</td>\n",
       "      <td>1</td>\n",
       "    </tr>\n",
       "    <tr>\n",
       "      <th>3</th>\n",
       "      <td>3</td>\n",
       "      <td>Agkistrodon contortrix</td>\n",
       "      <td>United States of America</td>\n",
       "      <td>North America</td>\n",
       "      <td>Agkistrodon</td>\n",
       "      <td>Viperidae</td>\n",
       "      <td>e2bcec60b133466380d5c253088765ae</td>\n",
       "      <td>18</td>\n",
       "      <td>Agkistrodon contortrix</td>\n",
       "      <td>1</td>\n",
       "    </tr>\n",
       "    <tr>\n",
       "      <th>4</th>\n",
       "      <td>4</td>\n",
       "      <td>Agkistrodon contortrix</td>\n",
       "      <td>United States of America</td>\n",
       "      <td>North America</td>\n",
       "      <td>Agkistrodon</td>\n",
       "      <td>Viperidae</td>\n",
       "      <td>fd6a488d065e47978c9996734fc1732c</td>\n",
       "      <td>18</td>\n",
       "      <td>Agkistrodon contortrix</td>\n",
       "      <td>1</td>\n",
       "    </tr>\n",
       "    <tr>\n",
       "      <th>...</th>\n",
       "      <td>...</td>\n",
       "      <td>...</td>\n",
       "      <td>...</td>\n",
       "      <td>...</td>\n",
       "      <td>...</td>\n",
       "      <td>...</td>\n",
       "      <td>...</td>\n",
       "      <td>...</td>\n",
       "      <td>...</td>\n",
       "      <td>...</td>\n",
       "    </tr>\n",
       "    <tr>\n",
       "      <th>3133</th>\n",
       "      <td>3133</td>\n",
       "      <td>Xenochrophis piscator</td>\n",
       "      <td>Indonesia</td>\n",
       "      <td>Asia</td>\n",
       "      <td>Xenochrophis</td>\n",
       "      <td>Colubridae</td>\n",
       "      <td>0ea9d660f6a847c38c7463e3cb3ab1d0</td>\n",
       "      <td>758</td>\n",
       "      <td>Xenochrophis piscator</td>\n",
       "      <td>0</td>\n",
       "    </tr>\n",
       "    <tr>\n",
       "      <th>3134</th>\n",
       "      <td>3134</td>\n",
       "      <td>Xenochrophis piscator</td>\n",
       "      <td>Cambodia</td>\n",
       "      <td>Asia</td>\n",
       "      <td>Xenochrophis</td>\n",
       "      <td>Colubridae</td>\n",
       "      <td>e2bf9314f68a4ba0b1c8e0ef962a1f83</td>\n",
       "      <td>758</td>\n",
       "      <td>Xenochrophis piscator</td>\n",
       "      <td>0</td>\n",
       "    </tr>\n",
       "    <tr>\n",
       "      <th>3135</th>\n",
       "      <td>3135</td>\n",
       "      <td>Xenochrophis piscator</td>\n",
       "      <td>unknown</td>\n",
       "      <td>unknown</td>\n",
       "      <td>Xenochrophis</td>\n",
       "      <td>Colubridae</td>\n",
       "      <td>a488a9ec11254db19a776c861d01149f</td>\n",
       "      <td>758</td>\n",
       "      <td>Xenochrophis piscator</td>\n",
       "      <td>0</td>\n",
       "    </tr>\n",
       "    <tr>\n",
       "      <th>3136</th>\n",
       "      <td>3136</td>\n",
       "      <td>Xenochrophis piscator</td>\n",
       "      <td>India</td>\n",
       "      <td>Asia</td>\n",
       "      <td>Xenochrophis</td>\n",
       "      <td>Colubridae</td>\n",
       "      <td>7d9a929f11824f74ba56dd475eac86ca</td>\n",
       "      <td>758</td>\n",
       "      <td>Xenochrophis piscator</td>\n",
       "      <td>0</td>\n",
       "    </tr>\n",
       "    <tr>\n",
       "      <th>3137</th>\n",
       "      <td>3137</td>\n",
       "      <td>Xenochrophis piscator</td>\n",
       "      <td>unknown</td>\n",
       "      <td>unknown</td>\n",
       "      <td>Xenochrophis</td>\n",
       "      <td>Colubridae</td>\n",
       "      <td>c37c4c7f7a0746e2816c356c40627f8c</td>\n",
       "      <td>758</td>\n",
       "      <td>Xenochrophis piscator</td>\n",
       "      <td>0</td>\n",
       "    </tr>\n",
       "  </tbody>\n",
       "</table>\n",
       "<p>3138 rows × 10 columns</p>\n",
       "</div>"
      ],
      "text/plain": [
       "      Unnamed: 0                binomial                   country  \\\n",
       "0              0  Agkistrodon contortrix  United States of America   \n",
       "1              1  Agkistrodon contortrix  United States of America   \n",
       "2              2  Agkistrodon contortrix  United States of America   \n",
       "3              3  Agkistrodon contortrix  United States of America   \n",
       "4              4  Agkistrodon contortrix  United States of America   \n",
       "...          ...                     ...                       ...   \n",
       "3133        3133   Xenochrophis piscator                 Indonesia   \n",
       "3134        3134   Xenochrophis piscator                  Cambodia   \n",
       "3135        3135   Xenochrophis piscator                   unknown   \n",
       "3136        3136   Xenochrophis piscator                     India   \n",
       "3137        3137   Xenochrophis piscator                   unknown   \n",
       "\n",
       "          continent         genus      family  \\\n",
       "0     North America   Agkistrodon   Viperidae   \n",
       "1     North America   Agkistrodon   Viperidae   \n",
       "2     North America   Agkistrodon   Viperidae   \n",
       "3     North America   Agkistrodon   Viperidae   \n",
       "4     North America   Agkistrodon   Viperidae   \n",
       "...             ...           ...         ...   \n",
       "3133           Asia  Xenochrophis  Colubridae   \n",
       "3134           Asia  Xenochrophis  Colubridae   \n",
       "3135        unknown  Xenochrophis  Colubridae   \n",
       "3136           Asia  Xenochrophis  Colubridae   \n",
       "3137        unknown  Xenochrophis  Colubridae   \n",
       "\n",
       "                                  UUID  class_id        snake_sub_family  \\\n",
       "0     ca23ee722e5e4b6ca4b130291b8428f1        18  Agkistrodon contortrix   \n",
       "1     23dfe346fcbf40e7a465b0febf3620be        18  Agkistrodon contortrix   \n",
       "2     2c96953bd06645bdbfa87b180eb72b0f        18  Agkistrodon contortrix   \n",
       "3     e2bcec60b133466380d5c253088765ae        18  Agkistrodon contortrix   \n",
       "4     fd6a488d065e47978c9996734fc1732c        18  Agkistrodon contortrix   \n",
       "...                                ...       ...                     ...   \n",
       "3133  0ea9d660f6a847c38c7463e3cb3ab1d0       758   Xenochrophis piscator   \n",
       "3134  e2bf9314f68a4ba0b1c8e0ef962a1f83       758   Xenochrophis piscator   \n",
       "3135  a488a9ec11254db19a776c861d01149f       758   Xenochrophis piscator   \n",
       "3136  7d9a929f11824f74ba56dd475eac86ca       758   Xenochrophis piscator   \n",
       "3137  c37c4c7f7a0746e2816c356c40627f8c       758   Xenochrophis piscator   \n",
       "\n",
       "      poisonous  \n",
       "0             1  \n",
       "1             1  \n",
       "2             1  \n",
       "3             1  \n",
       "4             1  \n",
       "...         ...  \n",
       "3133          0  \n",
       "3134          0  \n",
       "3135          0  \n",
       "3136          0  \n",
       "3137          0  \n",
       "\n",
       "[3138 rows x 10 columns]"
      ]
     },
     "metadata": {},
     "output_type": "display_data"
    }
   ],
   "source": [
    "# Our table\n",
    "df = pd.read_csv('test.csv')\n",
    "display(df)"
   ]
  },
  {
   "cell_type": "code",
   "execution_count": 3,
   "id": "91573aa0",
   "metadata": {
    "scrolled": false
   },
   "outputs": [
    {
     "data": {
      "text/html": [
       "<div>\n",
       "<style scoped>\n",
       "    .dataframe tbody tr th:only-of-type {\n",
       "        vertical-align: middle;\n",
       "    }\n",
       "\n",
       "    .dataframe tbody tr th {\n",
       "        vertical-align: top;\n",
       "    }\n",
       "\n",
       "    .dataframe thead th {\n",
       "        text-align: right;\n",
       "    }\n",
       "</style>\n",
       "<table border=\"1\" class=\"dataframe\">\n",
       "  <thead>\n",
       "    <tr style=\"text-align: right;\">\n",
       "      <th></th>\n",
       "      <th>id</th>\n",
       "      <th>binomial</th>\n",
       "      <th>country</th>\n",
       "      <th>continent</th>\n",
       "      <th>genus</th>\n",
       "      <th>family</th>\n",
       "      <th>poisonous</th>\n",
       "    </tr>\n",
       "  </thead>\n",
       "  <tbody>\n",
       "    <tr>\n",
       "      <th>0</th>\n",
       "      <td>0</td>\n",
       "      <td>Agkistrodon contortrix</td>\n",
       "      <td>United States of America</td>\n",
       "      <td>North America</td>\n",
       "      <td>Agkistrodon</td>\n",
       "      <td>Viperidae</td>\n",
       "      <td>1</td>\n",
       "    </tr>\n",
       "    <tr>\n",
       "      <th>1</th>\n",
       "      <td>1</td>\n",
       "      <td>Agkistrodon contortrix</td>\n",
       "      <td>United States of America</td>\n",
       "      <td>North America</td>\n",
       "      <td>Agkistrodon</td>\n",
       "      <td>Viperidae</td>\n",
       "      <td>1</td>\n",
       "    </tr>\n",
       "    <tr>\n",
       "      <th>2</th>\n",
       "      <td>2</td>\n",
       "      <td>Agkistrodon contortrix</td>\n",
       "      <td>United States of America</td>\n",
       "      <td>North America</td>\n",
       "      <td>Agkistrodon</td>\n",
       "      <td>Viperidae</td>\n",
       "      <td>1</td>\n",
       "    </tr>\n",
       "    <tr>\n",
       "      <th>3</th>\n",
       "      <td>3</td>\n",
       "      <td>Agkistrodon contortrix</td>\n",
       "      <td>United States of America</td>\n",
       "      <td>North America</td>\n",
       "      <td>Agkistrodon</td>\n",
       "      <td>Viperidae</td>\n",
       "      <td>1</td>\n",
       "    </tr>\n",
       "    <tr>\n",
       "      <th>4</th>\n",
       "      <td>4</td>\n",
       "      <td>Agkistrodon contortrix</td>\n",
       "      <td>United States of America</td>\n",
       "      <td>North America</td>\n",
       "      <td>Agkistrodon</td>\n",
       "      <td>Viperidae</td>\n",
       "      <td>1</td>\n",
       "    </tr>\n",
       "    <tr>\n",
       "      <th>...</th>\n",
       "      <td>...</td>\n",
       "      <td>...</td>\n",
       "      <td>...</td>\n",
       "      <td>...</td>\n",
       "      <td>...</td>\n",
       "      <td>...</td>\n",
       "      <td>...</td>\n",
       "    </tr>\n",
       "    <tr>\n",
       "      <th>3133</th>\n",
       "      <td>3133</td>\n",
       "      <td>Xenochrophis piscator</td>\n",
       "      <td>Indonesia</td>\n",
       "      <td>Asia</td>\n",
       "      <td>Xenochrophis</td>\n",
       "      <td>Colubridae</td>\n",
       "      <td>0</td>\n",
       "    </tr>\n",
       "    <tr>\n",
       "      <th>3134</th>\n",
       "      <td>3134</td>\n",
       "      <td>Xenochrophis piscator</td>\n",
       "      <td>Cambodia</td>\n",
       "      <td>Asia</td>\n",
       "      <td>Xenochrophis</td>\n",
       "      <td>Colubridae</td>\n",
       "      <td>0</td>\n",
       "    </tr>\n",
       "    <tr>\n",
       "      <th>3135</th>\n",
       "      <td>3135</td>\n",
       "      <td>Xenochrophis piscator</td>\n",
       "      <td>unknown</td>\n",
       "      <td>unknown</td>\n",
       "      <td>Xenochrophis</td>\n",
       "      <td>Colubridae</td>\n",
       "      <td>0</td>\n",
       "    </tr>\n",
       "    <tr>\n",
       "      <th>3136</th>\n",
       "      <td>3136</td>\n",
       "      <td>Xenochrophis piscator</td>\n",
       "      <td>India</td>\n",
       "      <td>Asia</td>\n",
       "      <td>Xenochrophis</td>\n",
       "      <td>Colubridae</td>\n",
       "      <td>0</td>\n",
       "    </tr>\n",
       "    <tr>\n",
       "      <th>3137</th>\n",
       "      <td>3137</td>\n",
       "      <td>Xenochrophis piscator</td>\n",
       "      <td>unknown</td>\n",
       "      <td>unknown</td>\n",
       "      <td>Xenochrophis</td>\n",
       "      <td>Colubridae</td>\n",
       "      <td>0</td>\n",
       "    </tr>\n",
       "  </tbody>\n",
       "</table>\n",
       "<p>3138 rows × 7 columns</p>\n",
       "</div>"
      ],
      "text/plain": [
       "        id                binomial                   country      continent  \\\n",
       "0        0  Agkistrodon contortrix  United States of America  North America   \n",
       "1        1  Agkistrodon contortrix  United States of America  North America   \n",
       "2        2  Agkistrodon contortrix  United States of America  North America   \n",
       "3        3  Agkistrodon contortrix  United States of America  North America   \n",
       "4        4  Agkistrodon contortrix  United States of America  North America   \n",
       "...    ...                     ...                       ...            ...   \n",
       "3133  3133   Xenochrophis piscator                 Indonesia           Asia   \n",
       "3134  3134   Xenochrophis piscator                  Cambodia           Asia   \n",
       "3135  3135   Xenochrophis piscator                   unknown        unknown   \n",
       "3136  3136   Xenochrophis piscator                     India           Asia   \n",
       "3137  3137   Xenochrophis piscator                   unknown        unknown   \n",
       "\n",
       "             genus      family  poisonous  \n",
       "0      Agkistrodon   Viperidae          1  \n",
       "1      Agkistrodon   Viperidae          1  \n",
       "2      Agkistrodon   Viperidae          1  \n",
       "3      Agkistrodon   Viperidae          1  \n",
       "4      Agkistrodon   Viperidae          1  \n",
       "...            ...         ...        ...  \n",
       "3133  Xenochrophis  Colubridae          0  \n",
       "3134  Xenochrophis  Colubridae          0  \n",
       "3135  Xenochrophis  Colubridae          0  \n",
       "3136  Xenochrophis  Colubridae          0  \n",
       "3137  Xenochrophis  Colubridae          0  \n",
       "\n",
       "[3138 rows x 7 columns]"
      ]
     },
     "metadata": {},
     "output_type": "display_data"
    }
   ],
   "source": [
    "# Table treatment\n",
    "df = df.drop([\"class_id\", \"UUID\", \"snake_sub_family\"], axis = 1)\n",
    "df.columns = [\"id\",\"binomial\", \"country\", \"continent\", \"genus\", \"family\",\"poisonous\"]\n",
    "display(df)"
   ]
  },
  {
   "cell_type": "code",
   "execution_count": 4,
   "id": "e53d35e1",
   "metadata": {
    "scrolled": false
   },
   "outputs": [
    {
     "data": {
      "text/html": [
       "<div>\n",
       "<style scoped>\n",
       "    .dataframe tbody tr th:only-of-type {\n",
       "        vertical-align: middle;\n",
       "    }\n",
       "\n",
       "    .dataframe tbody tr th {\n",
       "        vertical-align: top;\n",
       "    }\n",
       "\n",
       "    .dataframe thead th {\n",
       "        text-align: right;\n",
       "    }\n",
       "</style>\n",
       "<table border=\"1\" class=\"dataframe\">\n",
       "  <thead>\n",
       "    <tr style=\"text-align: right;\">\n",
       "      <th></th>\n",
       "      <th>id</th>\n",
       "      <th>binomial</th>\n",
       "      <th>country</th>\n",
       "      <th>continent</th>\n",
       "      <th>genus</th>\n",
       "      <th>family</th>\n",
       "      <th>poisonous</th>\n",
       "    </tr>\n",
       "  </thead>\n",
       "  <tbody>\n",
       "    <tr>\n",
       "      <th>0</th>\n",
       "      <td>0</td>\n",
       "      <td>Agkistrodon contortrix</td>\n",
       "      <td>United States of America</td>\n",
       "      <td>North America</td>\n",
       "      <td>Agkistrodon</td>\n",
       "      <td>Viperidae</td>\n",
       "      <td>1</td>\n",
       "    </tr>\n",
       "    <tr>\n",
       "      <th>1</th>\n",
       "      <td>1</td>\n",
       "      <td>Agkistrodon contortrix</td>\n",
       "      <td>United States of America</td>\n",
       "      <td>North America</td>\n",
       "      <td>Agkistrodon</td>\n",
       "      <td>Viperidae</td>\n",
       "      <td>1</td>\n",
       "    </tr>\n",
       "    <tr>\n",
       "      <th>2</th>\n",
       "      <td>2</td>\n",
       "      <td>Agkistrodon contortrix</td>\n",
       "      <td>United States of America</td>\n",
       "      <td>North America</td>\n",
       "      <td>Agkistrodon</td>\n",
       "      <td>Viperidae</td>\n",
       "      <td>1</td>\n",
       "    </tr>\n",
       "    <tr>\n",
       "      <th>3</th>\n",
       "      <td>3</td>\n",
       "      <td>Agkistrodon contortrix</td>\n",
       "      <td>United States of America</td>\n",
       "      <td>North America</td>\n",
       "      <td>Agkistrodon</td>\n",
       "      <td>Viperidae</td>\n",
       "      <td>1</td>\n",
       "    </tr>\n",
       "    <tr>\n",
       "      <th>4</th>\n",
       "      <td>4</td>\n",
       "      <td>Agkistrodon contortrix</td>\n",
       "      <td>United States of America</td>\n",
       "      <td>North America</td>\n",
       "      <td>Agkistrodon</td>\n",
       "      <td>Viperidae</td>\n",
       "      <td>1</td>\n",
       "    </tr>\n",
       "    <tr>\n",
       "      <th>...</th>\n",
       "      <td>...</td>\n",
       "      <td>...</td>\n",
       "      <td>...</td>\n",
       "      <td>...</td>\n",
       "      <td>...</td>\n",
       "      <td>...</td>\n",
       "      <td>...</td>\n",
       "    </tr>\n",
       "    <tr>\n",
       "      <th>3133</th>\n",
       "      <td>3133</td>\n",
       "      <td>Xenochrophis piscator</td>\n",
       "      <td>Indonesia</td>\n",
       "      <td>Asia</td>\n",
       "      <td>Xenochrophis</td>\n",
       "      <td>Colubridae</td>\n",
       "      <td>0</td>\n",
       "    </tr>\n",
       "    <tr>\n",
       "      <th>3134</th>\n",
       "      <td>3134</td>\n",
       "      <td>Xenochrophis piscator</td>\n",
       "      <td>Cambodia</td>\n",
       "      <td>Asia</td>\n",
       "      <td>Xenochrophis</td>\n",
       "      <td>Colubridae</td>\n",
       "      <td>0</td>\n",
       "    </tr>\n",
       "    <tr>\n",
       "      <th>3135</th>\n",
       "      <td>3135</td>\n",
       "      <td>Xenochrophis piscator</td>\n",
       "      <td>unknown</td>\n",
       "      <td>unknown</td>\n",
       "      <td>Xenochrophis</td>\n",
       "      <td>Colubridae</td>\n",
       "      <td>0</td>\n",
       "    </tr>\n",
       "    <tr>\n",
       "      <th>3136</th>\n",
       "      <td>3136</td>\n",
       "      <td>Xenochrophis piscator</td>\n",
       "      <td>India</td>\n",
       "      <td>Asia</td>\n",
       "      <td>Xenochrophis</td>\n",
       "      <td>Colubridae</td>\n",
       "      <td>0</td>\n",
       "    </tr>\n",
       "    <tr>\n",
       "      <th>3137</th>\n",
       "      <td>3137</td>\n",
       "      <td>Xenochrophis piscator</td>\n",
       "      <td>unknown</td>\n",
       "      <td>unknown</td>\n",
       "      <td>Xenochrophis</td>\n",
       "      <td>Colubridae</td>\n",
       "      <td>0</td>\n",
       "    </tr>\n",
       "  </tbody>\n",
       "</table>\n",
       "<p>3138 rows × 7 columns</p>\n",
       "</div>"
      ],
      "text/plain": [
       "        id                binomial                   country      continent  \\\n",
       "0        0  Agkistrodon contortrix  United States of America  North America   \n",
       "1        1  Agkistrodon contortrix  United States of America  North America   \n",
       "2        2  Agkistrodon contortrix  United States of America  North America   \n",
       "3        3  Agkistrodon contortrix  United States of America  North America   \n",
       "4        4  Agkistrodon contortrix  United States of America  North America   \n",
       "...    ...                     ...                       ...            ...   \n",
       "3133  3133   Xenochrophis piscator                 Indonesia           Asia   \n",
       "3134  3134   Xenochrophis piscator                  Cambodia           Asia   \n",
       "3135  3135   Xenochrophis piscator                   unknown        unknown   \n",
       "3136  3136   Xenochrophis piscator                     India           Asia   \n",
       "3137  3137   Xenochrophis piscator                   unknown        unknown   \n",
       "\n",
       "             genus      family  poisonous  \n",
       "0      Agkistrodon   Viperidae          1  \n",
       "1      Agkistrodon   Viperidae          1  \n",
       "2      Agkistrodon   Viperidae          1  \n",
       "3      Agkistrodon   Viperidae          1  \n",
       "4      Agkistrodon   Viperidae          1  \n",
       "...            ...         ...        ...  \n",
       "3133  Xenochrophis  Colubridae          0  \n",
       "3134  Xenochrophis  Colubridae          0  \n",
       "3135  Xenochrophis  Colubridae          0  \n",
       "3136  Xenochrophis  Colubridae          0  \n",
       "3137  Xenochrophis  Colubridae          0  \n",
       "\n",
       "[3138 rows x 7 columns]"
      ]
     },
     "execution_count": 4,
     "metadata": {},
     "output_type": "execute_result"
    }
   ],
   "source": [
    "# Deleting row and column with empty values\n",
    "df.dropna()\n",
    "# Excluding 'unknown' values\n",
    "#df= df[df != 'unknown'].dropna()\n",
    "#df"
   ]
  },
  {
   "cell_type": "code",
   "execution_count": 5,
   "id": "91cd3a0b",
   "metadata": {},
   "outputs": [
    {
     "data": {
      "text/plain": [
       "Corallus caninus         31\n",
       "Bothrops atrox           30\n",
       "Morelia viridis          30\n",
       "Bungarus multicinctus    30\n",
       "Crotalus ruber           29\n",
       "                         ..\n",
       "Thamnophis proximus      14\n",
       "Vipera aspis             14\n",
       "Leptophis diplotropis    14\n",
       "Boa constrictor          13\n",
       "Thamnophis marcianus      8\n",
       "Name: binomial, Length: 135, dtype: int64"
      ]
     },
     "metadata": {},
     "output_type": "display_data"
    }
   ],
   "source": [
    "# Number of snakes of each species\n",
    "tspecies = df['binomial'].value_counts()\n",
    "display(tspecies)"
   ]
  },
  {
   "cell_type": "code",
   "execution_count": 6,
   "id": "2d6e7da1",
   "metadata": {},
   "outputs": [
    {
     "data": {
      "text/plain": [
       "United States of America    1182\n",
       "unknown                      788\n",
       "Mexico                       187\n",
       "Australia                    115\n",
       "South Africa                  92\n",
       "                            ... \n",
       "Angola                         1\n",
       "Swaziland                      1\n",
       "Mozambique                     1\n",
       "Ghana                          1\n",
       "Croatia                        1\n",
       "Name: country, Length: 76, dtype: int64"
      ]
     },
     "metadata": {},
     "output_type": "display_data"
    }
   ],
   "source": [
    "# Snake amount in each country\n",
    "tcountry = df['country'].value_counts()\n",
    "display(tcountry)"
   ]
  },
  {
   "cell_type": "code",
   "execution_count": 7,
   "id": "8c6aaff1",
   "metadata": {},
   "outputs": [
    {
     "data": {
      "text/plain": [
       "North America    1391\n",
       "unknown           791\n",
       "Asia              370\n",
       "South America     215\n",
       "Europe            132\n",
       "Africa            122\n",
       "Australia         104\n",
       "Oceania            13\n",
       "Name: continent, dtype: int64"
      ]
     },
     "metadata": {},
     "output_type": "display_data"
    }
   ],
   "source": [
    "# Snake amount in each continent\n",
    "tcontinent = df['continent'].value_counts()\n",
    "display(tcontinent)"
   ]
  },
  {
   "cell_type": "code",
   "execution_count": 8,
   "id": "8fe859e3",
   "metadata": {},
   "outputs": [
    {
     "data": {
      "text/plain": [
       "0    2000\n",
       "1    1138\n",
       "Name: poisonous, dtype: int64"
      ]
     },
     "metadata": {},
     "output_type": "display_data"
    }
   ],
   "source": [
    "# Amount of poisonous snake = '1' and not poisonous = '0'\n",
    "tpoisonous = df['poisonous'].value_counts()\n",
    "display(tpoisonous)"
   ]
  },
  {
   "cell_type": "code",
   "execution_count": 9,
   "id": "c0b82f06",
   "metadata": {},
   "outputs": [
    {
     "data": {
      "text/plain": [
       "Crotalus        296\n",
       "Lampropeltis    135\n",
       "Thamnophis      128\n",
       "Tantilla         97\n",
       "Masticophis      86\n",
       "               ... \n",
       "Natrix           20\n",
       "Malpolon         20\n",
       "Hypsiglena       18\n",
       "Dendroaspis      16\n",
       "Boa              13\n",
       "Name: genus, Length: 80, dtype: int64"
      ]
     },
     "metadata": {},
     "output_type": "display_data"
    }
   ],
   "source": [
    "#Snake amount in each genus\n",
    "tgenus = df['genus'].value_counts()\n",
    "display(tgenus) "
   ]
  },
  {
   "cell_type": "code",
   "execution_count": 10,
   "id": "2a22eff8",
   "metadata": {},
   "outputs": [
    {
     "data": {
      "text/plain": [
       "Colubridae       1768\n",
       "Viperidae         724\n",
       "Elapidae          323\n",
       "Boidae            135\n",
       "Pythonidae        117\n",
       "Lamprophiidae      71\n",
       "Name: family, dtype: int64"
      ]
     },
     "metadata": {},
     "output_type": "display_data"
    }
   ],
   "source": [
    "#Snake amount in each family\n",
    "tfamily = df['family'].value_counts()\n",
    "display(tfamily) "
   ]
  },
  {
   "cell_type": "code",
   "execution_count": 11,
   "id": "969d9d2d",
   "metadata": {},
   "outputs": [
    {
     "data": {
      "text/plain": [
       "<AxesSubplot:title={'center':'Number of Snakes'}, xlabel='The amount', ylabel='Name'>"
      ]
     },
     "execution_count": 11,
     "metadata": {},
     "output_type": "execute_result"
    },
    {
     "data": {
      "image/png": "[encoded data removed]",
      "text/plain": [
       "<Figure size 432x288 with 1 Axes>"
      ]
     },
     "metadata": {
      "needs_background": "light"
     },
     "output_type": "display_data"
    }
   ],
   "source": [
    "# Species amount bar graph\n",
    "tspecies = tspecies.head(10)\n",
    "plt.title('Number of Snakes')\n",
    "plt.xlabel('The amount')\n",
    "plt.ylabel('Name')\n",
    "tspecies.plot.barh()"
   ]
  },
  {
   "cell_type": "code",
   "execution_count": 12,
   "id": "6055b388",
   "metadata": {},
   "outputs": [
    {
     "data": {
      "text/plain": [
       "<matplotlib.legend.Legend at 0x1dd8c5f9cd0>"
      ]
     },
     "execution_count": 12,
     "metadata": {},
     "output_type": "execute_result"
    },
    {
     "data": {
      "image/png": "[encoded data removed]",
      "text/plain": [
       "<Figure size 432x288 with 1 Axes>"
      ]
     },
     "metadata": {},
     "output_type": "display_data"
    }
   ],
   "source": [
    "# Poisonous to non-poisonous difference sectors graphic \n",
    "# 1 poisonous / 0 not poisonous\n",
    "sort = ['non-poisonous', 'poisonous']\n",
    "plt.pie(tpoisonous, labels=sort, autopct = '%1.1f%%')\n",
    "plt.legend(sort, bbox_to_anchor=(1.2, 1))"
   ]
  },
  {
   "cell_type": "code",
   "execution_count": 13,
   "id": "c2b15776",
   "metadata": {},
   "outputs": [
    {
     "data": {
      "text/plain": [
       "<AxesSubplot:title={'center':'Snake amount in each country'}, xlabel='The amount', ylabel='Country'>"
      ]
     },
     "execution_count": 13,
     "metadata": {},
     "output_type": "execute_result"
    },
    {
     "data": {
      "image/png": "[encoded data removed]",
      "text/plain": [
       "<Figure size 432x288 with 1 Axes>"
      ]
     },
     "metadata": {
      "needs_background": "light"
     },
     "output_type": "display_data"
    }
   ],
   "source": [
    "# Snake amount in each country in bar\n",
    "tcountry = tcountry.head(15)\n",
    "plt.title('Snake amount in each country')\n",
    "plt.xlabel('The amount')\n",
    "plt.ylabel('Country')\n",
    "tcountry.plot.barh()"
   ]
  },
  {
   "cell_type": "code",
   "execution_count": 14,
   "id": "92469e08",
   "metadata": {},
   "outputs": [
    {
     "data": {
      "text/plain": [
       "<AxesSubplot:title={'center':'Snake amount in genus'}, xlabel='The amount', ylabel='Genus'>"
      ]
     },
     "execution_count": 14,
     "metadata": {},
     "output_type": "execute_result"
    },
    {
     "data": {
      "image/png": "[encoded data removed]",
      "text/plain": [
       "<Figure size 432x288 with 1 Axes>"
      ]
     },
     "metadata": {
      "needs_background": "light"
     },
     "output_type": "display_data"
    }
   ],
   "source": [
    "# Snake amount in each genus in bar\n",
    "tgenus = tgenus.head(15)\n",
    "plt.title('Snake amount in genus')\n",
    "plt.xlabel('The amount')\n",
    "plt.ylabel('Genus')\n",
    "tgenus.plot.barh()"
   ]
  },
  {
   "cell_type": "code",
   "execution_count": 15,
   "id": "81144c72",
   "metadata": {},
   "outputs": [
    {
     "data": {
      "text/plain": [
       "<matplotlib.legend.Legend at 0x1dd8c5f9370>"
      ]
     },
     "execution_count": 15,
     "metadata": {},
     "output_type": "execute_result"
    },
    {
     "data": {
      "image/png": "[encoded data removed]",
      "text/plain": [
       "<Figure size 432x288 with 1 Axes>"
      ]
     },
     "metadata": {},
     "output_type": "display_data"
    }
   ],
   "source": [
    "#Piece chart of the amount of family\n",
    "sort2 = ['Colubridae', 'Viperidae', 'Elapidae', 'Boidae', 'Pythonidae', 'Lamprophiidae']\n",
    "plt.pie(tfamily, autopct = '%1.1f%%')\n",
    "plt.legend(sort2, bbox_to_anchor=(1.2, 1))"
   ]
  },
  {
   "cell_type": "code",
   "execution_count": 16,
   "id": "8d6c40cc",
   "metadata": {},
   "outputs": [
    {
     "data": {
      "text/plain": [
       "<AxesSubplot:title={'center':'Number of snakes on the mainland'}, xlabel='Continent', ylabel='The amount'>"
      ]
     },
     "execution_count": 16,
     "metadata": {},
     "output_type": "execute_result"
    },
    {
     "data": {
      "image/png": "[encoded data removed]",
      "text/plain": [
       "<Figure size 432x288 with 1 Axes>"
      ]
     },
     "metadata": {
      "needs_background": "light"
     },
     "output_type": "display_data"
    }
   ],
   "source": [
    "# Number of snakes on each continent in bar\n",
    "tcontinent = df['continent'].value_counts()\n",
    "plt.title('Number of snakes on the mainland')\n",
    "plt.xlabel('Continent')\n",
    "plt.ylabel('The amount')\n",
    "tcontinent.plot.bar()"
   ]
  }
 ],
 "metadata": {
  "kernelspec": {
   "display_name": "Python 3 (ipykernel)",
   "language": "python",
   "name": "python3"
  },
  "language_info": {
   "codemirror_mode": {
    "name": "ipython",
    "version": 3
   },
   "file_extension": ".py",
   "mimetype": "text/x-python",
   "name": "python",
   "nbconvert_exporter": "python",
   "pygments_lexer": "ipython3",
   "version": "3.9.12"
  }
 },
 "nbformat": 4,
 "nbformat_minor": 5
}
